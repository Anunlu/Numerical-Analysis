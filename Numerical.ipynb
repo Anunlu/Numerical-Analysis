{
 "metadata": {
  "language_info": {
   "codemirror_mode": {
    "name": "ipython",
    "version": 3
   },
   "file_extension": ".py",
   "mimetype": "text/x-python",
   "name": "python",
   "nbconvert_exporter": "python",
   "pygments_lexer": "ipython3",
   "version": "3.9.0-final"
  },
  "orig_nbformat": 2,
  "kernelspec": {
   "name": "python3",
   "display_name": "Python 3.9.0 64-bit",
   "metadata": {
    "interpreter": {
     "hash": "ac2eaa0ea0ebeafcc7822e65e46aa9d4f966f30b695406963e145ea4a91cd4fc"
    }
   }
  }
 },
 "nbformat": 4,
 "nbformat_minor": 2,
 "cells": [
  {
   "cell_type": "code",
   "execution_count": 1,
   "metadata": {},
   "outputs": [],
   "source": [
    "import numpy as np \n",
    "import pandas as pd\n",
    "import math\n"
   ]
  },
  {
   "source": [
    "<h1>Question 1 - Taylor Series</h1>"
   ],
   "cell_type": "markdown",
   "metadata": {}
  },
  {
   "cell_type": "code",
   "execution_count": 2,
   "metadata": {},
   "outputs": [
    {
     "output_type": "stream",
     "name": "stdout",
     "text": [
      "Rounding ERROR\n\nAbsolute : 3.542584286142514e-06\nPercentage : %0.0003542584286142514\nRelative : 3.5425717362835482e-06\n"
     ]
    }
   ],
   "source": [
    "def Taylor(x, n):\n",
    "    sin = 0\n",
    "    for i in range(n):\n",
    "        coef = (-1)**i\n",
    "        num = (2*x)**((2*i)+1)\n",
    "        denom = math.factorial((2*i)+1)\n",
    "        sin += (coef)*((num)/(denom))\n",
    "    \n",
    "    return sin\n",
    "\n",
    "rad=math.radians(45)\n",
    "VA=np.float128(Taylor(rad,5))\n",
    "VE=np.float128(1.0)\n",
    "#Absolute error = |VA-VE|\n",
    "absolute=abs(VA-VE)\n",
    "#Percentage error (%) = (|VA-VE|/VE) x 100\n",
    "percentage=(absolute/VE)*100\n",
    "#Relative Error = Absolute error/VA\n",
    "relative=absolute/VA\n",
    "print(f'Rounding ERROR\\n\\nAbsolute : {absolute}\\nPercentage : %{percentage}\\nRelative : {relative}')"
   ]
  },
  {
   "source": [
    "<h1>Question 2 - Gauss Elemination</h1>"
   ],
   "cell_type": "markdown",
   "metadata": {}
  },
  {
   "cell_type": "code",
   "execution_count": 3,
   "metadata": {},
   "outputs": [],
   "source": [
    "A=np.array([[2,-3,-1],[3,2,-5],[2,4,-1]],float)\n",
    "b=np.array([3,-9,-5],float)"
   ]
  },
  {
   "cell_type": "code",
   "execution_count": 4,
   "metadata": {},
   "outputs": [],
   "source": [
    "def Gauss(A, b):\n",
    "    n=len(b)\n",
    "\n",
    "    for i in range(n-1):\n",
    "        for j in range(i+1,n):\n",
    "            if A[j][i]==0:\n",
    "                continue\n",
    "            fact=A[i][i]/A[j][i]\n",
    "            for k in range(i,n):\n",
    "                A[j][k]=A[i][k]-(fact*A[j][k])\n",
    "            b[j]=b[i]-(fact*b[j])\n",
    "            \n",
    "    for i in range (n):\n",
    "        b[i]=b[i]/A[i][i]\n",
    "        A[i]=A[i]/A[i][i]\n",
    "\n",
    "    x=np.linalg.solve(A,b)\n",
    "\n",
    "    return x,A,b"
   ]
  },
  {
   "cell_type": "code",
   "execution_count": 5,
   "metadata": {},
   "outputs": [
    {
     "output_type": "stream",
     "name": "stdout",
     "text": [
      "x1, x2, x3 = [ 0.65306122 -1.14285714  1.73469388]\n\n\nA matrix\n [[ 1.         -1.5        -0.5       ]\n [-0.          1.         -0.53846154]\n [ 0.          0.          1.        ]]\nB matrix\n [ 1.5        -2.07692308  1.73469388]\n"
     ]
    }
   ],
   "source": [
    "x,C,D=Gauss(A,b)\n",
    "\n",
    "print(f'x1, x2, x3 = {x}\\n\\n')\n",
    "print('A matrix\\n',C)\n",
    "print('B matrix\\n',D)"
   ]
  },
  {
   "source": [
    "<h1>Question 3 - Doolittle Decomposition</h1>"
   ],
   "cell_type": "markdown",
   "metadata": {}
  },
  {
   "source": [
    "A=np.array([[2.34,-4.10,1.78],[-1.98,3.47,-2.22],[2.36,-15.17,6.18]])\n",
    "B=np.array([0.02,-0.73,-6.63])\n",
    "C=np.array([[2,-1,-2],[-4,6,3],[-4,-2,8]])\n",
    "D=np.array([-1,13,-6])"
   ],
   "cell_type": "code",
   "metadata": {},
   "execution_count": 6,
   "outputs": []
  },
  {
   "cell_type": "code",
   "execution_count": 7,
   "metadata": {},
   "outputs": [],
   "source": [
    "def Doolittle(A, B):    \n",
    "    n=len(B)\n",
    "    lower = np.zeros(n*n).reshape((n,n))\n",
    "    upper = np.zeros(n*n).reshape((n,n))\n",
    "\n",
    "    for i in range(n):\n",
    "        \n",
    "        for k in range(i, n):\n",
    "            sum = 0\n",
    "            for j in range(i):\n",
    "                sum += (lower[i][j] * upper[j][k])\n",
    "            upper[i][k] = A[i][k] - sum\n",
    " \n",
    "        for k in range(i, n):\n",
    "            if (i == k):\n",
    "                lower[i][i] = 1\n",
    "            else:\n",
    "                sum = 0\n",
    "                for j in range(i):\n",
    "                    sum += (lower[k][j] * upper[j][i])\n",
    "                lower[k][i] = (A[k][i] - sum) / upper[i][i]\n",
    "    \n",
    "    y=np.linalg.solve(lower,B)\n",
    "\n",
    "    x=np.zeros(n,float)\n",
    "    for i in range(n-1,-1,-1):\n",
    "        sum=0\n",
    "        for j in range(i+1,n):\n",
    "            sum = sum + upper[i,j]*x[j]\n",
    "        x[i]=(np.array(y)[i]-sum)/upper[i,i]\n",
    "    \n",
    "\n",
    "    print(f'x1, x2, x3 : {x}')    \n",
    "    print(\"\\n\")\n",
    "    print(f'y1, y2, y3 : {y}')\n",
    "    print(\"\\n\")\n",
    "    print(f'Lower\\n{lower}')\n",
    "    print(\"\\n\")\n",
    "    print(f'Upper\\n{upper}')\n",
    " "
   ]
  },
  {
   "cell_type": "code",
   "execution_count": 8,
   "metadata": {},
   "outputs": [
    {
     "output_type": "stream",
     "name": "stdout",
     "text": [
      "x1, x2, x3 : [1. 1. 1.]\n\n\ny1, y2, y3 : [ 2.00000000e-02 -7.13076923e-01 -1.02360556e+04]\n\n\nLower\n[[ 1.00000000e+00  0.00000000e+00  0.00000000e+00]\n [-8.46153846e-01  1.00000000e+00  0.00000000e+00]\n [ 1.00854701e+00 -1.43454444e+04  1.00000000e+00]]\n\n\nUpper\n[[ 2.34000000e+00 -4.10000000e+00  1.78000000e+00]\n [ 0.00000000e+00  7.69230769e-04 -7.13846154e-01]\n [ 0.00000000e+00  0.00000000e+00 -1.02360556e+04]]\n"
     ]
    }
   ],
   "source": [
    "Doolittle(A,B)\n"
   ]
  },
  {
   "source": [
    "<h1>Question 4 - Cholesky Decomposition</h1>"
   ],
   "cell_type": "markdown",
   "metadata": {}
  },
  {
   "cell_type": "code",
   "execution_count": 9,
   "metadata": {},
   "outputs": [],
   "source": [
    "A=np.array([[1,1,1],[1,2,2],[1,2,3]],float)\n",
    "B=np.array([1,1.5,3],float)\n"
   ]
  },
  {
   "cell_type": "code",
   "execution_count": 10,
   "metadata": {},
   "outputs": [],
   "source": [
    "def Cholesky(A,B):\n",
    "    n = len(A)\n",
    "    lower = np.zeros(n*n).reshape((n,n))\n",
    "    transpose = np.zeros(n*n).reshape((n,n))\n",
    "    n = len(lower)\n",
    "    for i in range(n):\n",
    "        for j in range(i+1):\n",
    "            if i==j:\n",
    "                val = A[i,i] - np.sum(np.square(lower[i,:i]))\n",
    "                if val<0:\n",
    "                    return 0.0\n",
    "                lower[i,i] = np.sqrt(val)\n",
    "            else:\n",
    "                lower[i,j] = (A[i,j] - np.sum(lower[i,:j]*lower[j,:j]))/lower[j,j]\n",
    "    \n",
    "    y=np.linalg.solve(lower,B)\n",
    "\n",
    "    for i in range(n):\n",
    "        for j in range(n):\n",
    "            transpose[i][j]=lower[j][i]    \n",
    "    x=np.linalg.solve(transpose,y)\n",
    "    print(f'x1, x2, x3 : {x}')    \n",
    "    print(\"\\n\")\n",
    "    print(f'y1, y2, y3 : {y}')\n",
    "    print(\"\\n\")    \n",
    "    print(f'Lower\\n{lower}')\n",
    "    print(\"\\n\")\n",
    "    print(f'Transpose\\n{transpose}')\n"
   ]
  },
  {
   "cell_type": "code",
   "execution_count": 11,
   "metadata": {},
   "outputs": [
    {
     "output_type": "stream",
     "name": "stdout",
     "text": [
      "x1, x2, x3 : [ 0.5 -1.   1.5]\n\n\ny1, y2, y3 : [1.  0.5 1.5]\n\n\nLower\n[[1. 0. 0.]\n [1. 1. 0.]\n [1. 1. 1.]]\n\n\nTranspose\n[[1. 1. 1.]\n [0. 1. 1.]\n [0. 0. 1.]]\n"
     ]
    }
   ],
   "source": [
    "Cholesky(A,B)"
   ]
  },
  {
   "cell_type": "code",
   "execution_count": null,
   "metadata": {},
   "outputs": [],
   "source": []
  }
 ]
}