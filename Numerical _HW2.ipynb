{
 "metadata": {
  "language_info": {
   "codemirror_mode": {
    "name": "ipython",
    "version": 3
   },
   "file_extension": ".py",
   "mimetype": "text/x-python",
   "name": "python",
   "nbconvert_exporter": "python",
   "pygments_lexer": "ipython3",
   "version": "3.9.0-final"
  },
  "orig_nbformat": 2,
  "kernelspec": {
   "name": "python3",
   "display_name": "Python 3.9.0 64-bit",
   "metadata": {
    "interpreter": {
     "hash": "ac2eaa0ea0ebeafcc7822e65e46aa9d4f966f30b695406963e145ea4a91cd4fc"
    }
   }
  }
 },
 "nbformat": 4,
 "nbformat_minor": 2,
 "cells": [
  {
   "source": [
    "<h1>Numerical Analysis HomeWork - 2</h1>\n",
    "<br>\n",
    "<h2>Ahmet Nasuhcan ÜNLÜ - 171805062</h2>\n",
    "<h2>Ilker MAVILI - 181805084</h>"
   ],
   "cell_type": "markdown",
   "metadata": {}
  },
  {
   "cell_type": "code",
   "execution_count": 21,
   "metadata": {},
   "outputs": [],
   "source": [
    "import numpy as np \n",
    "import pandas as pd\n",
    "from numpy.polynomial import Polynomial as P"
   ]
  },
  {
   "source": [
    "<h3>Question - 1 (Newton's Divided Difference)</h3> "
   ],
   "cell_type": "markdown",
   "metadata": {}
  },
  {
   "cell_type": "code",
   "execution_count": 22,
   "metadata": {},
   "outputs": [],
   "source": [
    "def dividedDif(dP):\n",
    "    numOfDP=len(dataPoints)\n",
    "    lst1=[]\n",
    "    lst2=[]\n",
    "    lst3=[]\n",
    "    sec=[]\n",
    "    for i in range(numOfDP-1):\n",
    "        j=i\n",
    "        i=i+1            \n",
    "        lst1.append((dP[i][1]-dP[j][1])/(dP[i][0]-dP[j][0]))\n",
    "    for i in range(numOfDP-2):\n",
    "        j=i \n",
    "        i=i+1\n",
    "        lst2.append((lst1[i]-lst1[j])/(dP[i+1][0]-dP[j][0]))  \n",
    "\n",
    "    for i in range(numOfDP-3):\n",
    "        j=i\n",
    "        i=i+1\n",
    "        lst3.append((lst2[i]-lst2[j])/(dP[i+2][0]-dP[j][0]))  \n",
    "\n",
    "    sec.extend((dP[0][1],lst1[0],lst2[0],lst3[0]))\n",
    "    \n",
    "    \n",
    "    return sec[0]+(sec[1]*P([-dP[0][0],1]))+(sec[2]*(P([-dP[0][0],1])*P([-dP[1][0],1])))+(sec[3]*(P([-dP[0][0],1])*P([-dP[1][0],1])*P([dP[2][0],1])))"
   ]
  },
  {
   "cell_type": "code",
   "execution_count": 23,
   "metadata": {},
   "outputs": [
    {
     "output_type": "execute_result",
     "data": {
      "text/plain": [
       "Polynomial([ 4., -2.], domain=[-1.,  1.], window=[-1.,  1.])"
      ],
      "text/latex": "$x \\mapsto \\text{4.0} - \\text{2.0}\\,x$"
     },
     "metadata": {},
     "execution_count": 23
    }
   ],
   "source": [
    "dataPoints=np.array([[-2,8],[0,4],[1,2],[3,-2]],float)\n",
    "dividedDif(dataPoints) \n"
   ]
  },
  {
   "source": [
    "<h3>Question - 2 (Newton-Raphson Method)</h3>"
   ],
   "cell_type": "markdown",
   "metadata": {}
  },
  {
   "cell_type": "code",
   "execution_count": 24,
   "metadata": {},
   "outputs": [],
   "source": [
    "def newRaph(p,n):\n",
    "    pDev = np.polyder(p)\n",
    "    lst = []\n",
    "    lst.append(n)\n",
    "    i=0\n",
    "    while(True):\n",
    "        lst.append(lst[i] - (p(lst[i])/pDev(lst[i])))\n",
    "        i+=1\n",
    "        if(round(lst[-1],5)==round(lst[-2],5)):\n",
    "            break\n",
    "    return lst"
   ]
  },
  {
   "cell_type": "code",
   "execution_count": 25,
   "metadata": {},
   "outputs": [
    {
     "output_type": "stream",
     "name": "stdout",
     "text": [
      "1.16973\n"
     ]
    },
    {
     "output_type": "execute_result",
     "data": {
      "text/plain": [
       "[-1,\n",
       " 0.0,\n",
       " -5.0,\n",
       " -3.364485981308411,\n",
       " -2.25378468079964,\n",
       " -1.457649466884968,\n",
       " -0.7534521353700768,\n",
       " 1.1533329223065887,\n",
       " 1.169957536288933,\n",
       " 1.1697262650163318,\n",
       " 1.169726219853726]"
      ]
     },
     "metadata": {},
     "execution_count": 25
    }
   ],
   "source": [
    "p = np.poly1d([3, 1, -1, -5])\n",
    "n=-1\n",
    "lst=newRaph(p,n)\n",
    "print(f'{round(lst[-1],5)}')\n",
    "lst"
   ]
  },
  {
   "source": [
    "<h3>Question - 3 (FD,BD,CD)</h3>"
   ],
   "cell_type": "markdown",
   "metadata": {}
  },
  {
   "cell_type": "code",
   "execution_count": 26,
   "metadata": {},
   "outputs": [],
   "source": [
    "def fd(data,sp):\n",
    "    fdlst1=[-3,4,-1]\n",
    "    fdlst2=[2,-5,4,-1]\n",
    "    xl=list(data.keys())\n",
    "    x=[]\n",
    "    for i in xl:\n",
    "        if (sp<=i):\n",
    "            x.append(i)\n",
    "    \n",
    "    if(len(x)>=4):\n",
    "        h=round((x[1]-x[0]),10)\n",
    "        fd1=0.0\n",
    "        fd2=0.0\n",
    "        for i in range(len(fdlst1)):\n",
    "            fd1=fd1+(fdlst1[i]*data[x[i]])\n",
    "        fd1=fd1/(2*h)\n",
    "        for i in range(len(fdlst2)):\n",
    "            fd2=fd2+(fdlst2[i]*data[x[i]])\n",
    "        fd2=fd2/(h**2)\n",
    "        fds={'forward difference for 1st derivative':fd1,'forward difference for 2nd derivative':fd2}\n",
    "        return fds\n",
    "    elif(len(x)==3):\n",
    "        h=round((x[1]-x[0]),10)\n",
    "        fd1=0.0\n",
    "        for i in range(len(fdlst1)):\n",
    "            fd1=fd1+(fdlst1[i]*data[x[i]])\n",
    "        fd1=fd1/(2*h)\n",
    "        fds={'forward difference for 1st derivative':fd1,'forward difference for 2nd derivative':'not enough data for calculation'}\n",
    "        return fds\n",
    "    else:\n",
    "        return ' forward difference: not enough data for calculation'\n",
    "\n",
    "def bd(data,sp):\n",
    "    bdlst1=[3,-4,1]\n",
    "    bdlst2=[2,-5,4,-1]\n",
    "    xl=list(data.keys())\n",
    "    x=[]\n",
    "    for i in xl:\n",
    "        if (sp>=i):\n",
    "            x.append(i)\n",
    "    if (len(x)>=4):\n",
    "        h=round((x[1]-x[0]),10)\n",
    "        bd1=0.0\n",
    "        bd2=0.0\n",
    "        for i in range(len(bdlst1)):\n",
    "            bd1=bd1+(bdlst1[i]*data[x[-i-1]])\n",
    "        bd1=bd1/(2*h)\n",
    "        for i in range(len(bdlst2)):\n",
    "            bd2=bd2+(bdlst2[i]*data[x[-i-1]])\n",
    "        bd2=bd2/(h**2)\n",
    "        fds={'backward difference for 1st derivative':bd1,'backward difference for 2nd derivative':bd2}\n",
    "        return fds\n",
    "    elif (len(x)>=3):\n",
    "        h=round((x[1]-x[0]),10)\n",
    "        bd1=0.0\n",
    "        for i in range(len(bdlst1)):\n",
    "            bd1=bd1+(bdlst1[i]*data[x[-i-1]])\n",
    "        bd1=bd1/(2*h)\n",
    "        fds={'backward difference for 1st derivative':bd1,'backward difference for 2nd derivative':'not enough data for calculation'}\n",
    "        return fds\n",
    "    else:\n",
    "        return ' backward difference: not enough data for calculation'\n",
    "\n",
    "def cen(data,center):\n",
    "    clst1=[-1,0,1]\n",
    "    clst2=[1,-2,1]\n",
    "    x=list(data.keys())\n",
    "    index=x.index(center)\n",
    "    if (index==(len(x)-1) or index==0):\n",
    "        return ' central difference: not enough data for calculation'\n",
    "    else:\n",
    "        x=[x[index-1],x[index],x[index+1]]\n",
    "        h=round((x[1]-x[0]),10)\n",
    "        cd1=0.0\n",
    "        cd2=0.0\n",
    "        counter=0\n",
    "        lst=[data[x[0]],data[x[1]],data[x[2]]]\n",
    "        for j in range(len(lst)):\n",
    "            cd1=cd1+(clst1[j]*lst[j])\n",
    "        cd1=cd1/(2*h)\n",
    "        for j in range(len(lst)):\n",
    "            cd2=cd2+(clst2[j]*lst[j])\n",
    "        cd2=cd2/(h**2)\n",
    "        cds={'central difference for 1st derivative':cd1,'central difference for 2nd derivative':cd2}\n",
    "        return cds\n"
   ]
  },
  {
   "cell_type": "code",
   "execution_count": 27,
   "metadata": {},
   "outputs": [
    {
     "output_type": "stream",
     "name": "stdout",
     "text": [
      "for 2.38: forward difference: not enough data for calculation\nfor 2.38:{'backward difference for 1st derivative': 0.41999999999999815, 'backward difference for 2nd derivative': 'not enough data for calculation'}\nfor 2.38:{'central difference for 1st derivative': 0.41999999999999815, 'central difference for 2nd derivative': -0.1999999999990898}\n"
     ]
    }
   ],
   "source": [
    "data={2.36:0.85866,2.37:0.86289,2.38:0.86710,2.39:0.87129}\n",
    "#Starting Point is Defined as 2.38\n",
    "sp=2.38\n",
    "print(f'for {sp}:{fd(data,sp)}')\n",
    "print(f'for {sp}:{bd(data,sp)}')\n",
    "print(f'for {sp}:{cen(data,sp)}')\n",
    "\n"
   ]
  },
  {
   "cell_type": "code",
   "execution_count": 28,
   "metadata": {},
   "outputs": [
    {
     "output_type": "stream",
     "name": "stdout",
     "text": [
      "for 2.36:{'forward difference for 1st derivative': 0.42400000000001326, 'forward difference for 2nd derivative': -0.20000000000020002}\nfor 2.36: backward difference: not enough data for calculation\nfor 2.36: central difference: not enough data for calculation\nfor 2.37:{'forward difference for 1st derivative': 0.4219999999999946, 'forward difference for 2nd derivative': 'not enough data for calculation'}\nfor 2.37: backward difference: not enough data for calculation\nfor 2.37:{'central difference for 1st derivative': 0.42200000000000015, 'central difference for 2nd derivative': -0.20000000000131024}\nfor 2.38: forward difference: not enough data for calculation\nfor 2.38:{'backward difference for 1st derivative': 0.41999999999999815, 'backward difference for 2nd derivative': 'not enough data for calculation'}\nfor 2.38:{'central difference for 1st derivative': 0.41999999999999815, 'central difference for 2nd derivative': -0.1999999999990898}\nfor 2.39: forward difference: not enough data for calculation\nfor 2.39:{'backward difference for 1st derivative': 0.4180000000000017, 'backward difference for 2nd derivative': -0.19999999999242846}\nfor 2.39: central difference: not enough data for calculation\n"
     ]
    }
   ],
   "source": [
    "#Calculated of the All Points\n",
    "data={2.36:0.85866,2.37:0.86289,2.38:0.86710,2.39:0.87129}\n",
    "a=list(data.keys())\n",
    "for i in a:\n",
    "    print(f'for {i}:{fd(data,i)}')\n",
    "    print(f'for {i}:{bd(data,i)}')\n",
    "    print(f'for {i}:{cen(data,i)}')"
   ]
  },
  {
   "source": [
    "<h3>Question - 4 (Simpson's 1/3 rule)</h3>"
   ],
   "cell_type": "markdown",
   "metadata": {}
  },
  {
   "cell_type": "code",
   "execution_count": 29,
   "metadata": {},
   "outputs": [],
   "source": [
    "def f(x):\n",
    "    y = pow(x, 2)\n",
    "    return y\n",
    "def simpson(a, b, n):\n",
    "    # Use a breakpoint in the code line below to debug your script.\n",
    "    h = (b-a)/n\n",
    "    y = 0\n",
    "    g = 0\n",
    "    for i in range(1, n, 2):\n",
    "        y = y + f(a + (i*h))\n",
    "\n",
    "    for j in range(2, n, 2):\n",
    "        g = g + f(a + (j*h))\n",
    "    z = (h/3) * (f(a) + f(b) + 4*y + 2*g)\n",
    "    return z\n"
   ]
  },
  {
   "cell_type": "code",
   "execution_count": 30,
   "metadata": {},
   "outputs": [
    {
     "output_type": "stream",
     "name": "stdout",
     "text": [
      "2 panels: 0.3333333333333333\n4 panels: 0.3333333333333333\n6 panels: 0.3333333333333333\n"
     ]
    }
   ],
   "source": [
    "a=0\n",
    "b=1\n",
    "n=12\n",
    "for i in range(2,7,2):\n",
    "    print(f'{i} panels: {simpson(a, b, i)}')\n"
   ]
  }
 ]
}